{
  "nbformat": 4,
  "nbformat_minor": 0,
  "metadata": {
    "colab": {
      "name": "Untitled",
      "provenance": []
    },
    "kernelspec": {
      "name": "python3",
      "display_name": "Python 3"
    },
    "accelerator": "GPU"
  },
  "cells": [
    {
      "cell_type": "code",
      "metadata": {
        "id": "oEW5zBBlf7vR",
        "colab_type": "code",
        "outputId": "35c9325b-7a09-464c-f5fc-d6b2a34bc137",
        "colab": {
          "base_uri": "https://localhost:8080/",
          "height": 128
        }
      },
      "source": [
        "from google.colab import drive\n",
        "drive.mount('/content/drive')"
      ],
      "execution_count": 0,
      "outputs": [
        {
          "output_type": "stream",
          "text": [
            "Go to this URL in a browser: https://accounts.google.com/o/oauth2/auth?client_id=947318989803-6bn6qk8qdgf4n4g3pfee6491hc0brc4i.apps.googleusercontent.com&redirect_uri=urn%3aietf%3awg%3aoauth%3a2.0%3aoob&response_type=code&scope=email%20https%3a%2f%2fwww.googleapis.com%2fauth%2fdocs.test%20https%3a%2f%2fwww.googleapis.com%2fauth%2fdrive%20https%3a%2f%2fwww.googleapis.com%2fauth%2fdrive.photos.readonly%20https%3a%2f%2fwww.googleapis.com%2fauth%2fpeopleapi.readonly\n",
            "\n",
            "Enter your authorization code:\n",
            "··········\n",
            "Mounted at /content/drive\n"
          ],
          "name": "stdout"
        }
      ]
    },
    {
      "cell_type": "code",
      "metadata": {
        "id": "mA7BVP-QgI0u",
        "colab_type": "code",
        "outputId": "1c9c8ff2-311e-4531-81cc-6bf6af198b21",
        "colab": {
          "base_uri": "https://localhost:8080/",
          "height": 35
        }
      },
      "source": [
        "import os\n",
        "os.chdir(\"/content/drive/My Drive/DLDatasets\")\n",
        "!ls"
      ],
      "execution_count": 0,
      "outputs": [
        {
          "output_type": "stream",
          "text": [
            "insightface\n"
          ],
          "name": "stdout"
        }
      ]
    },
    {
      "cell_type": "code",
      "metadata": {
        "id": "ut5f-GfhgmNc",
        "colab_type": "code",
        "outputId": "0ebb64fd-dc99-4ee3-8ae8-54c4bbe510e4",
        "colab": {
          "base_uri": "https://localhost:8080/",
          "height": 35
        }
      },
      "source": [
        "!git clone https://github.com/deepinsight/insightface.git"
      ],
      "execution_count": 0,
      "outputs": [
        {
          "output_type": "stream",
          "text": [
            "fatal: destination path 'insightface' already exists and is not an empty directory.\n"
          ],
          "name": "stdout"
        }
      ]
    },
    {
      "cell_type": "code",
      "metadata": {
        "id": "L4tuGa1UgtcK",
        "colab_type": "code",
        "outputId": "3440e8bd-a02c-493b-b533-e0da1ae2110e",
        "colab": {
          "base_uri": "https://localhost:8080/",
          "height": 1000
        }
      },
      "source": [
        "!pip install matplotlib\n",
        "!pip install scipy\n",
        "!pip install tqdm\n",
        "!pip install opencv-python\n",
        "!pip install pillow\n",
        "!pip install torch\n",
        "!pip install torchvision\n",
        "!pip install numpy\n",
        "!pip install scikit-image\n",
        "!pip install torchsummary\n",
        "!pip install imgaug"
      ],
      "execution_count": 0,
      "outputs": [
        {
          "output_type": "stream",
          "text": [
            "Requirement already satisfied: matplotlib in /usr/local/lib/python3.6/dist-packages (3.2.1)\n",
            "Requirement already satisfied: python-dateutil>=2.1 in /usr/local/lib/python3.6/dist-packages (from matplotlib) (2.8.1)\n",
            "Requirement already satisfied: pyparsing!=2.0.4,!=2.1.2,!=2.1.6,>=2.0.1 in /usr/local/lib/python3.6/dist-packages (from matplotlib) (2.4.7)\n",
            "Requirement already satisfied: numpy>=1.11 in /usr/local/lib/python3.6/dist-packages (from matplotlib) (1.18.4)\n",
            "Requirement already satisfied: kiwisolver>=1.0.1 in /usr/local/lib/python3.6/dist-packages (from matplotlib) (1.2.0)\n",
            "Requirement already satisfied: cycler>=0.10 in /usr/local/lib/python3.6/dist-packages (from matplotlib) (0.10.0)\n",
            "Requirement already satisfied: six>=1.5 in /usr/local/lib/python3.6/dist-packages (from python-dateutil>=2.1->matplotlib) (1.12.0)\n",
            "Requirement already satisfied: scipy in /usr/local/lib/python3.6/dist-packages (1.4.1)\n",
            "Requirement already satisfied: numpy>=1.13.3 in /usr/local/lib/python3.6/dist-packages (from scipy) (1.18.4)\n",
            "Requirement already satisfied: tqdm in /usr/local/lib/python3.6/dist-packages (4.41.1)\n",
            "Requirement already satisfied: opencv-python in /usr/local/lib/python3.6/dist-packages (4.1.2.30)\n",
            "Requirement already satisfied: numpy>=1.11.3 in /usr/local/lib/python3.6/dist-packages (from opencv-python) (1.18.4)\n",
            "Requirement already satisfied: pillow in /usr/local/lib/python3.6/dist-packages (7.0.0)\n",
            "Requirement already satisfied: torch in /usr/local/lib/python3.6/dist-packages (1.5.0+cu101)\n",
            "Requirement already satisfied: numpy in /usr/local/lib/python3.6/dist-packages (from torch) (1.18.4)\n",
            "Requirement already satisfied: future in /usr/local/lib/python3.6/dist-packages (from torch) (0.16.0)\n",
            "Requirement already satisfied: torchvision in /usr/local/lib/python3.6/dist-packages (0.6.0+cu101)\n",
            "Requirement already satisfied: numpy in /usr/local/lib/python3.6/dist-packages (from torchvision) (1.18.4)\n",
            "Requirement already satisfied: torch==1.5.0 in /usr/local/lib/python3.6/dist-packages (from torchvision) (1.5.0+cu101)\n",
            "Requirement already satisfied: pillow>=4.1.1 in /usr/local/lib/python3.6/dist-packages (from torchvision) (7.0.0)\n",
            "Requirement already satisfied: future in /usr/local/lib/python3.6/dist-packages (from torch==1.5.0->torchvision) (0.16.0)\n",
            "Requirement already satisfied: numpy in /usr/local/lib/python3.6/dist-packages (1.18.4)\n",
            "Requirement already satisfied: scikit-image in /usr/local/lib/python3.6/dist-packages (0.16.2)\n",
            "Requirement already satisfied: scipy>=0.19.0 in /usr/local/lib/python3.6/dist-packages (from scikit-image) (1.4.1)\n",
            "Requirement already satisfied: networkx>=2.0 in /usr/local/lib/python3.6/dist-packages (from scikit-image) (2.4)\n",
            "Requirement already satisfied: imageio>=2.3.0 in /usr/local/lib/python3.6/dist-packages (from scikit-image) (2.4.1)\n",
            "Requirement already satisfied: matplotlib!=3.0.0,>=2.0.0 in /usr/local/lib/python3.6/dist-packages (from scikit-image) (3.2.1)\n",
            "Requirement already satisfied: PyWavelets>=0.4.0 in /usr/local/lib/python3.6/dist-packages (from scikit-image) (1.1.1)\n",
            "Requirement already satisfied: pillow>=4.3.0 in /usr/local/lib/python3.6/dist-packages (from scikit-image) (7.0.0)\n",
            "Requirement already satisfied: numpy>=1.13.3 in /usr/local/lib/python3.6/dist-packages (from scipy>=0.19.0->scikit-image) (1.18.4)\n",
            "Requirement already satisfied: decorator>=4.3.0 in /usr/local/lib/python3.6/dist-packages (from networkx>=2.0->scikit-image) (4.4.2)\n",
            "Requirement already satisfied: python-dateutil>=2.1 in /usr/local/lib/python3.6/dist-packages (from matplotlib!=3.0.0,>=2.0.0->scikit-image) (2.8.1)\n",
            "Requirement already satisfied: pyparsing!=2.0.4,!=2.1.2,!=2.1.6,>=2.0.1 in /usr/local/lib/python3.6/dist-packages (from matplotlib!=3.0.0,>=2.0.0->scikit-image) (2.4.7)\n",
            "Requirement already satisfied: cycler>=0.10 in /usr/local/lib/python3.6/dist-packages (from matplotlib!=3.0.0,>=2.0.0->scikit-image) (0.10.0)\n",
            "Requirement already satisfied: kiwisolver>=1.0.1 in /usr/local/lib/python3.6/dist-packages (from matplotlib!=3.0.0,>=2.0.0->scikit-image) (1.2.0)\n",
            "Requirement already satisfied: six>=1.5 in /usr/local/lib/python3.6/dist-packages (from python-dateutil>=2.1->matplotlib!=3.0.0,>=2.0.0->scikit-image) (1.12.0)\n",
            "Requirement already satisfied: torchsummary in /usr/local/lib/python3.6/dist-packages (1.5.1)\n",
            "Requirement already satisfied: imgaug in /usr/local/lib/python3.6/dist-packages (0.2.9)\n",
            "Requirement already satisfied: numpy>=1.15.0 in /usr/local/lib/python3.6/dist-packages (from imgaug) (1.18.4)\n",
            "Requirement already satisfied: scipy in /usr/local/lib/python3.6/dist-packages (from imgaug) (1.4.1)\n",
            "Requirement already satisfied: six in /usr/local/lib/python3.6/dist-packages (from imgaug) (1.12.0)\n",
            "Requirement already satisfied: matplotlib in /usr/local/lib/python3.6/dist-packages (from imgaug) (3.2.1)\n",
            "Requirement already satisfied: opencv-python in /usr/local/lib/python3.6/dist-packages (from imgaug) (4.1.2.30)\n",
            "Requirement already satisfied: imageio in /usr/local/lib/python3.6/dist-packages (from imgaug) (2.4.1)\n",
            "Requirement already satisfied: Pillow in /usr/local/lib/python3.6/dist-packages (from imgaug) (7.0.0)\n",
            "Requirement already satisfied: scikit-image>=0.11.0 in /usr/local/lib/python3.6/dist-packages (from imgaug) (0.16.2)\n",
            "Requirement already satisfied: Shapely in /usr/local/lib/python3.6/dist-packages (from imgaug) (1.7.0)\n",
            "Requirement already satisfied: python-dateutil>=2.1 in /usr/local/lib/python3.6/dist-packages (from matplotlib->imgaug) (2.8.1)\n",
            "Requirement already satisfied: kiwisolver>=1.0.1 in /usr/local/lib/python3.6/dist-packages (from matplotlib->imgaug) (1.2.0)\n",
            "Requirement already satisfied: cycler>=0.10 in /usr/local/lib/python3.6/dist-packages (from matplotlib->imgaug) (0.10.0)\n",
            "Requirement already satisfied: pyparsing!=2.0.4,!=2.1.2,!=2.1.6,>=2.0.1 in /usr/local/lib/python3.6/dist-packages (from matplotlib->imgaug) (2.4.7)\n",
            "Requirement already satisfied: networkx>=2.0 in /usr/local/lib/python3.6/dist-packages (from scikit-image>=0.11.0->imgaug) (2.4)\n",
            "Requirement already satisfied: PyWavelets>=0.4.0 in /usr/local/lib/python3.6/dist-packages (from scikit-image>=0.11.0->imgaug) (1.1.1)\n",
            "Requirement already satisfied: decorator>=4.3.0 in /usr/local/lib/python3.6/dist-packages (from networkx>=2.0->scikit-image>=0.11.0->imgaug) (4.4.2)\n"
          ],
          "name": "stdout"
        }
      ]
    },
    {
      "cell_type": "code",
      "metadata": {
        "id": "fX0R5gDJrL9b",
        "colab_type": "code",
        "outputId": "17ce32f8-7e13-4d2e-c05c-ab507806d13a",
        "colab": {
          "base_uri": "https://localhost:8080/",
          "height": 437
        }
      },
      "source": [
        "!pip install face-alignment"
      ],
      "execution_count": 1,
      "outputs": [
        {
          "output_type": "stream",
          "text": [
            "Collecting face-alignment\n",
            "  Downloading https://files.pythonhosted.org/packages/20/86/26baa3888c254c9ce284702a1041cf9a533ad91c873b06f74d3cfa23aff7/face_alignment-1.0.0-py2.py3-none-any.whl\n",
            "Requirement already satisfied: torch in /usr/local/lib/python3.6/dist-packages (from face-alignment) (1.5.0+cu101)\n",
            "Requirement already satisfied: tqdm in /usr/local/lib/python3.6/dist-packages (from face-alignment) (4.41.1)\n",
            "Requirement already satisfied: numpy in /usr/local/lib/python3.6/dist-packages (from face-alignment) (1.18.4)\n",
            "Requirement already satisfied: opencv-python in /usr/local/lib/python3.6/dist-packages (from face-alignment) (4.1.2.30)\n",
            "Requirement already satisfied: scipy>=0.17 in /usr/local/lib/python3.6/dist-packages (from face-alignment) (1.4.1)\n",
            "Requirement already satisfied: scikit-image in /usr/local/lib/python3.6/dist-packages (from face-alignment) (0.16.2)\n",
            "Requirement already satisfied: future in /usr/local/lib/python3.6/dist-packages (from torch->face-alignment) (0.16.0)\n",
            "Requirement already satisfied: pillow>=4.3.0 in /usr/local/lib/python3.6/dist-packages (from scikit-image->face-alignment) (7.0.0)\n",
            "Requirement already satisfied: imageio>=2.3.0 in /usr/local/lib/python3.6/dist-packages (from scikit-image->face-alignment) (2.4.1)\n",
            "Requirement already satisfied: matplotlib!=3.0.0,>=2.0.0 in /usr/local/lib/python3.6/dist-packages (from scikit-image->face-alignment) (3.2.1)\n",
            "Requirement already satisfied: PyWavelets>=0.4.0 in /usr/local/lib/python3.6/dist-packages (from scikit-image->face-alignment) (1.1.1)\n",
            "Requirement already satisfied: networkx>=2.0 in /usr/local/lib/python3.6/dist-packages (from scikit-image->face-alignment) (2.4)\n",
            "Requirement already satisfied: cycler>=0.10 in /usr/local/lib/python3.6/dist-packages (from matplotlib!=3.0.0,>=2.0.0->scikit-image->face-alignment) (0.10.0)\n",
            "Requirement already satisfied: pyparsing!=2.0.4,!=2.1.2,!=2.1.6,>=2.0.1 in /usr/local/lib/python3.6/dist-packages (from matplotlib!=3.0.0,>=2.0.0->scikit-image->face-alignment) (2.4.7)\n",
            "Requirement already satisfied: kiwisolver>=1.0.1 in /usr/local/lib/python3.6/dist-packages (from matplotlib!=3.0.0,>=2.0.0->scikit-image->face-alignment) (1.2.0)\n",
            "Requirement already satisfied: python-dateutil>=2.1 in /usr/local/lib/python3.6/dist-packages (from matplotlib!=3.0.0,>=2.0.0->scikit-image->face-alignment) (2.8.1)\n",
            "Requirement already satisfied: decorator>=4.3.0 in /usr/local/lib/python3.6/dist-packages (from networkx>=2.0->scikit-image->face-alignment) (4.4.2)\n",
            "Requirement already satisfied: six in /usr/local/lib/python3.6/dist-packages (from cycler>=0.10->matplotlib!=3.0.0,>=2.0.0->scikit-image->face-alignment) (1.12.0)\n",
            "Installing collected packages: face-alignment\n",
            "Successfully installed face-alignment-1.0.0\n"
          ],
          "name": "stdout"
        }
      ]
    },
    {
      "cell_type": "code",
      "metadata": {
        "id": "oe5xd20ujTEV",
        "colab_type": "code",
        "colab": {}
      },
      "source": [
        "import pandas as pd\n"
      ],
      "execution_count": 0,
      "outputs": []
    },
    {
      "cell_type": "code",
      "metadata": {
        "id": "SiKseXRBKB_0",
        "colab_type": "code",
        "colab": {}
      },
      "source": [
        "!pip install -q torch==1.5.0 torchvision"
      ],
      "execution_count": 0,
      "outputs": []
    },
    {
      "cell_type": "code",
      "metadata": {
        "id": "O49TcdykLCCl",
        "colab_type": "code",
        "colab": {
          "base_uri": "https://localhost:8080/",
          "height": 35
        },
        "outputId": "e779f22c-a971-4180-a304-ec4da4528b8d"
      },
      "source": [
        "import torch\n",
        "print(torch.__version__)"
      ],
      "execution_count": 4,
      "outputs": [
        {
          "output_type": "stream",
          "text": [
            "1.5.0+cu101\n"
          ],
          "name": "stdout"
        }
      ]
    },
    {
      "cell_type": "code",
      "metadata": {
        "id": "1zeahbJdpKmT",
        "colab_type": "code",
        "colab": {
          "base_uri": "https://localhost:8080/",
          "height": 126
        },
        "outputId": "23393da3-ccb4-4bbc-a117-ee395a09bd91"
      },
      "source": [
        "!apt-get install python3.6"
      ],
      "execution_count": 5,
      "outputs": [
        {
          "output_type": "stream",
          "text": [
            "Reading package lists... Done\n",
            "Building dependency tree       \n",
            "Reading state information... Done\n",
            "python3.6 is already the newest version (3.6.9-1~18.04ubuntu1).\n",
            "python3.6 set to manually installed.\n",
            "0 upgraded, 0 newly installed, 0 to remove and 31 not upgraded.\n"
          ],
          "name": "stdout"
        }
      ]
    },
    {
      "cell_type": "code",
      "metadata": {
        "id": "dNx61o63pNM3",
        "colab_type": "code",
        "outputId": "863e4f42-738e-4915-b7f5-c625a7cbb36a",
        "colab": {
          "base_uri": "https://localhost:8080/",
          "height": 110
        }
      },
      "source": [
        "!pip install utils"
      ],
      "execution_count": 6,
      "outputs": [
        {
          "output_type": "stream",
          "text": [
            "Collecting utils\n",
            "  Downloading https://files.pythonhosted.org/packages/55/e6/c2d2b2703e7debc8b501caae0e6f7ead148fd0faa3c8131292a599930029/utils-1.0.1-py2.py3-none-any.whl\n",
            "Installing collected packages: utils\n",
            "Successfully installed utils-1.0.1\n"
          ],
          "name": "stdout"
        }
      ]
    },
    {
      "cell_type": "code",
      "metadata": {
        "id": "xKLhUzpgmIB7",
        "colab_type": "code",
        "outputId": "ae06a65a-d772-4535-934c-359a239d07e6",
        "colab": {
          "base_uri": "https://localhost:8080/",
          "height": 128
        }
      },
      "source": [
        "!pip install imgix "
      ],
      "execution_count": 0,
      "outputs": [
        {
          "output_type": "stream",
          "text": [
            "Collecting imgix\n",
            "  Downloading https://files.pythonhosted.org/packages/f0/5d/4eba79c3b7485cd6a80b8d30b622ee9269d9ed5ed655c525801baf493a5a/imgix-3.1.2-py3-none-any.whl\n",
            "Requirement already satisfied: future in /usr/local/lib/python3.6/dist-packages (from imgix) (0.16.0)\n",
            "Installing collected packages: imgix\n",
            "Successfully installed imgix-3.1.2\n"
          ],
          "name": "stdout"
        }
      ]
    },
    {
      "cell_type": "code",
      "metadata": {
        "id": "td1wGsTKk_qB",
        "colab_type": "code",
        "outputId": "b6132f13-9477-4262-e9dd-8b6b91bcdd93",
        "colab": {
          "base_uri": "https://localhost:8080/",
          "height": 110
        }
      },
      "source": [
        "!pip install config"
      ],
      "execution_count": 11,
      "outputs": [
        {
          "output_type": "stream",
          "text": [
            "Collecting config\n",
            "  Downloading https://files.pythonhosted.org/packages/67/af/a7c8be986afee4cf277045cfdb06605296ff3f1a1de415d62c18a7a33040/config-0.5.0.post0-py2.py3-none-any.whl\n",
            "Installing collected packages: config\n",
            "Successfully installed config-0.5.0.post0\n"
          ],
          "name": "stdout"
        }
      ]
    },
    {
      "cell_type": "code",
      "metadata": {
        "id": "pKxMFwPakxHE",
        "colab_type": "code",
        "outputId": "64d22cb2-baff-4580-8a86-6cdf94e97d9a",
        "colab": {
          "base_uri": "https://localhost:8080/",
          "height": 328
        }
      },
      "source": [
        "!pip install mxnet"
      ],
      "execution_count": 7,
      "outputs": [
        {
          "output_type": "stream",
          "text": [
            "Collecting mxnet\n",
            "\u001b[?25l  Downloading https://files.pythonhosted.org/packages/81/f5/d79b5b40735086ff1100c680703e0f3efc830fa455e268e9e96f3c857e93/mxnet-1.6.0-py2.py3-none-any.whl (68.7MB)\n",
            "\u001b[K     |████████████████████████████████| 68.7MB 40kB/s \n",
            "\u001b[?25hRequirement already satisfied: numpy<2.0.0,>1.16.0 in /usr/local/lib/python3.6/dist-packages (from mxnet) (1.18.4)\n",
            "Requirement already satisfied: requests<3,>=2.20.0 in /usr/local/lib/python3.6/dist-packages (from mxnet) (2.23.0)\n",
            "Collecting graphviz<0.9.0,>=0.8.1\n",
            "  Downloading https://files.pythonhosted.org/packages/53/39/4ab213673844e0c004bed8a0781a0721a3f6bb23eb8854ee75c236428892/graphviz-0.8.4-py2.py3-none-any.whl\n",
            "Requirement already satisfied: urllib3!=1.25.0,!=1.25.1,<1.26,>=1.21.1 in /usr/local/lib/python3.6/dist-packages (from requests<3,>=2.20.0->mxnet) (1.24.3)\n",
            "Requirement already satisfied: certifi>=2017.4.17 in /usr/local/lib/python3.6/dist-packages (from requests<3,>=2.20.0->mxnet) (2020.4.5.1)\n",
            "Requirement already satisfied: chardet<4,>=3.0.2 in /usr/local/lib/python3.6/dist-packages (from requests<3,>=2.20.0->mxnet) (3.0.4)\n",
            "Requirement already satisfied: idna<3,>=2.5 in /usr/local/lib/python3.6/dist-packages (from requests<3,>=2.20.0->mxnet) (2.9)\n",
            "Installing collected packages: graphviz, mxnet\n",
            "  Found existing installation: graphviz 0.10.1\n",
            "    Uninstalling graphviz-0.10.1:\n",
            "      Successfully uninstalled graphviz-0.10.1\n",
            "Successfully installed graphviz-0.8.4 mxnet-1.6.0\n"
          ],
          "name": "stdout"
        }
      ]
    },
    {
      "cell_type": "code",
      "metadata": {
        "id": "X1C1BnhOPa4y",
        "colab_type": "code",
        "colab": {
          "base_uri": "https://localhost:8080/",
          "height": 35
        },
        "outputId": "b12c119b-3838-4c1d-967b-4e05d7515a77"
      },
      "source": [
        "#extract.py\n",
        "import os\n",
        "\n",
        "import zipfile\n",
        "\n",
        "\n",
        "def extract(filename):\n",
        "    print('Extracting {}...'.format(filename))\n",
        "    zip_ref = zipfile.ZipFile(filename, 'r')\n",
        "    zip_ref.extractall('data')\n",
        "    zip_ref.close()\n",
        "\n",
        "\n",
        "if __name__ == \"__main__\":\n",
        "    # if not os.path.isdir('data/faces_ms1m_112x112'):\n",
        "    #     extract('data/faces_ms1m_112x112.zip')\n",
        "    if not os.path.isdir('/content/msceleb.'):\n",
        "        extract('/content/msceleb.zip')"
      ],
      "execution_count": 9,
      "outputs": [
        {
          "output_type": "stream",
          "text": [
            "Extracting /content/msceleb.zip...\n"
          ],
          "name": "stdout"
        }
      ]
    },
    {
      "cell_type": "code",
      "metadata": {
        "id": "2H3eA--zPyqH",
        "colab_type": "code",
        "colab": {
          "base_uri": "https://localhost:8080/",
          "height": 389
        },
        "outputId": "5b6029ae-570e-49cd-84b9-2454a1a690bb"
      },
      "source": [
        "#pre_process.py\n",
        "import os\n",
        "import pickle\n",
        "\n",
        "import cv2 as cv\n",
        "import mxnet as mx\n",
        "from mxnet import recordio\n",
        "from tqdm import tqdm\n",
        "\n",
        "from config import path_imgidx, path_imgrec, IMG_DIR, pickle_file\n",
        "from utils import ensure_folder\n",
        "\n",
        "if __name__ == \"__main__\":\n",
        "    ensure_folder(IMG_DIR)\n",
        "    imgrec = recordio.MXIndexedRecordIO(path_imgidx, path_imgrec, 'r')\n",
        "    print(len(imgrec))\n",
        "\n",
        "    samples = []\n",
        "    class_ids = set()\n",
        "\n",
        "    # %% 1 ~ 5179510\n",
        "    for i in tqdm(range(5179510)):\n",
        "        print(i)\n",
        "        try:\n",
        "            header, s = recordio.unpack(imgrec.read_idx(i + 1))\n",
        "            img = mx.image.imdecode(s).asnumpy()\n",
        "            print(img.shape)\n",
        "            img = cv.cvtColor(img, cv.COLOR_RGB2BGR)\n",
        "            print(header.label)\n",
        "            print(type(header.label))\n",
        "            label = int(header.label[0])\n",
        "            class_ids.add(label)\n",
        "            filename = '{}.jpg'.format(i)\n",
        "            samples.append({'img': filename, 'label': label})\n",
        "            filename = os.path.join(IMG_DIR, filename)\n",
        "            cv.imwrite(filename, img)\n",
        "        except KeyboardInterrupt:\n",
        "            raise\n",
        "        except Exception as err:\n",
        "            print(err)\n",
        "            print(i)\n",
        "            print(label)\n",
        "            # pass\n",
        "\n",
        "    with open(pickle_file, 'wb') as file:\n",
        "        pickle.dump(samples, file)\n",
        "\n",
        "    print('num_samples: ' + str(len(samples)))\n",
        "\n",
        "    class_ids = list(class_ids)\n",
        "    print(len(class_ids))\n",
        "    print(max(class_ids))"
      ],
      "execution_count": 29,
      "outputs": [
        {
          "output_type": "error",
          "ename": "ImportError",
          "evalue": "ignored",
          "traceback": [
            "\u001b[0;31m---------------------------------------------------------------------------\u001b[0m",
            "\u001b[0;31mImportError\u001b[0m                               Traceback (most recent call last)",
            "\u001b[0;32m<ipython-input-29-f3f45a25d1f6>\u001b[0m in \u001b[0;36m<module>\u001b[0;34m()\u001b[0m\n\u001b[1;32m      8\u001b[0m \u001b[0;32mfrom\u001b[0m \u001b[0mtqdm\u001b[0m \u001b[0;32mimport\u001b[0m \u001b[0mtqdm\u001b[0m\u001b[0;34m\u001b[0m\u001b[0;34m\u001b[0m\u001b[0m\n\u001b[1;32m      9\u001b[0m \u001b[0;34m\u001b[0m\u001b[0m\n\u001b[0;32m---> 10\u001b[0;31m \u001b[0;32mfrom\u001b[0m \u001b[0mconfig\u001b[0m \u001b[0;32mimport\u001b[0m \u001b[0mpath_imgidx\u001b[0m\u001b[0;34m,\u001b[0m \u001b[0mpath_imgrec\u001b[0m\u001b[0;34m,\u001b[0m \u001b[0mIMG_DIR\u001b[0m\u001b[0;34m,\u001b[0m \u001b[0mpickle_file\u001b[0m\u001b[0;34m\u001b[0m\u001b[0;34m\u001b[0m\u001b[0m\n\u001b[0m\u001b[1;32m     11\u001b[0m \u001b[0;32mfrom\u001b[0m \u001b[0mutils\u001b[0m \u001b[0;32mimport\u001b[0m \u001b[0mensure_folder\u001b[0m\u001b[0;34m\u001b[0m\u001b[0;34m\u001b[0m\u001b[0m\n\u001b[1;32m     12\u001b[0m \u001b[0;34m\u001b[0m\u001b[0m\n",
            "\u001b[0;31mImportError\u001b[0m: cannot import name 'path_imgidx'",
            "",
            "\u001b[0;31m---------------------------------------------------------------------------\u001b[0;32m\nNOTE: If your import is failing due to a missing package, you can\nmanually install dependencies using either !pip or !apt.\n\nTo view examples of installing some common dependencies, click the\n\"Open Examples\" button below.\n\u001b[0;31m---------------------------------------------------------------------------\u001b[0m\n"
          ]
        }
      ]
    },
    {
      "cell_type": "code",
      "metadata": {
        "id": "RZU26lC9t5YV",
        "colab_type": "code",
        "colab": {}
      },
      "source": [
        ""
      ],
      "execution_count": 0,
      "outputs": []
    },
    {
      "cell_type": "code",
      "metadata": {
        "id": "RTDxBwjWiRiQ",
        "colab_type": "code",
        "colab": {
          "base_uri": "https://localhost:8080/",
          "height": 383
        },
        "outputId": "fb12fc2a-9a0d-4b09-b4e1-94eb3cd18f7e"
      },
      "source": [
        "!pip install face-alignment\n"
      ],
      "execution_count": 16,
      "outputs": [
        {
          "output_type": "stream",
          "text": [
            "Requirement already satisfied: face-alignment in /usr/local/lib/python3.6/dist-packages (1.0.0)\n",
            "Requirement already satisfied: torch in /usr/local/lib/python3.6/dist-packages (from face-alignment) (1.5.0+cu101)\n",
            "Requirement already satisfied: scikit-image in /usr/local/lib/python3.6/dist-packages (from face-alignment) (0.16.2)\n",
            "Requirement already satisfied: numpy in /usr/local/lib/python3.6/dist-packages (from face-alignment) (1.18.4)\n",
            "Requirement already satisfied: opencv-python in /usr/local/lib/python3.6/dist-packages (from face-alignment) (4.1.2.30)\n",
            "Requirement already satisfied: scipy>=0.17 in /usr/local/lib/python3.6/dist-packages (from face-alignment) (1.4.1)\n",
            "Requirement already satisfied: tqdm in /usr/local/lib/python3.6/dist-packages (from face-alignment) (4.41.1)\n",
            "Requirement already satisfied: future in /usr/local/lib/python3.6/dist-packages (from torch->face-alignment) (0.16.0)\n",
            "Requirement already satisfied: PyWavelets>=0.4.0 in /usr/local/lib/python3.6/dist-packages (from scikit-image->face-alignment) (1.1.1)\n",
            "Requirement already satisfied: imageio>=2.3.0 in /usr/local/lib/python3.6/dist-packages (from scikit-image->face-alignment) (2.4.1)\n",
            "Requirement already satisfied: networkx>=2.0 in /usr/local/lib/python3.6/dist-packages (from scikit-image->face-alignment) (2.4)\n",
            "Requirement already satisfied: matplotlib!=3.0.0,>=2.0.0 in /usr/local/lib/python3.6/dist-packages (from scikit-image->face-alignment) (3.2.1)\n",
            "Requirement already satisfied: pillow>=4.3.0 in /usr/local/lib/python3.6/dist-packages (from scikit-image->face-alignment) (7.0.0)\n",
            "Requirement already satisfied: decorator>=4.3.0 in /usr/local/lib/python3.6/dist-packages (from networkx>=2.0->scikit-image->face-alignment) (4.4.2)\n",
            "Requirement already satisfied: python-dateutil>=2.1 in /usr/local/lib/python3.6/dist-packages (from matplotlib!=3.0.0,>=2.0.0->scikit-image->face-alignment) (2.8.1)\n",
            "Requirement already satisfied: cycler>=0.10 in /usr/local/lib/python3.6/dist-packages (from matplotlib!=3.0.0,>=2.0.0->scikit-image->face-alignment) (0.10.0)\n",
            "Requirement already satisfied: pyparsing!=2.0.4,!=2.1.2,!=2.1.6,>=2.0.1 in /usr/local/lib/python3.6/dist-packages (from matplotlib!=3.0.0,>=2.0.0->scikit-image->face-alignment) (2.4.7)\n",
            "Requirement already satisfied: kiwisolver>=1.0.1 in /usr/local/lib/python3.6/dist-packages (from matplotlib!=3.0.0,>=2.0.0->scikit-image->face-alignment) (1.2.0)\n",
            "Requirement already satisfied: six>=1.5 in /usr/local/lib/python3.6/dist-packages (from python-dateutil>=2.1->matplotlib!=3.0.0,>=2.0.0->scikit-image->face-alignment) (1.12.0)\n"
          ],
          "name": "stdout"
        }
      ]
    },
    {
      "cell_type": "code",
      "metadata": {
        "id": "u6_N3MNCiJMc",
        "colab_type": "code",
        "colab": {}
      },
      "source": [
        "#config.py\n",
        "\n",
        "import os\n",
        "\n",
        "import torch\n",
        "\n",
        "device = torch.device('cuda' if torch.cuda.is_available() else 'cpu')  # sets device for model and PyTorch tensors\n",
        "\n",
        "# Model parameters\n",
        "image_w = 112\n",
        "image_h = 112\n",
        "channel = 3\n",
        "emb_size = 512\n",
        "\n",
        "# Training parameters\n",
        "num_workers = 1  # for data-loading; right now, only 1 works with h5py\n",
        "grad_clip = 5.  # clip gradients at an absolute value of\n",
        "print_freq = 100  # print training/validation stats  every __ batches\n",
        "checkpoint = None  # path to checkpoint, None if none\n",
        "\n",
        "# Data parameters\n",
        "num_classes = 93431\n",
        "num_samples = 5179510\n",
        "DATA_DIR = 'data'\n",
        "# faces_ms1m_folder = 'data/faces_ms1m_112x112'\n",
        "faces_ms1m_folder = 'data/ms1m-retinaface-t1'\n",
        "path_imgidx = os.path.join(faces_ms1m_folder, 'train.idx')\n",
        "path_imgrec = os.path.join(faces_ms1m_folder, 'train.rec')\n",
        "IMG_DIR = 'data/images'\n",
        "pickle_file = 'data/faces_ms1m_112x112.pickle'"
      ],
      "execution_count": 0,
      "outputs": []
    },
    {
      "cell_type": "code",
      "metadata": {
        "id": "Lz7afZZQsKr5",
        "colab_type": "code",
        "colab": {
          "base_uri": "https://localhost:8080/",
          "height": 74
        },
        "outputId": "fdee89e8-bc96-469e-937e-66fd213cfa6a"
      },
      "source": [
        "!pip install opencv-python"
      ],
      "execution_count": 21,
      "outputs": [
        {
          "output_type": "stream",
          "text": [
            "Requirement already satisfied: opencv-python in /usr/local/lib/python3.6/dist-packages (4.1.2.30)\n",
            "Requirement already satisfied: numpy>=1.11.3 in /usr/local/lib/python3.6/dist-packages (from opencv-python) (1.18.4)\n"
          ],
          "name": "stdout"
        }
      ]
    },
    {
      "cell_type": "code",
      "metadata": {
        "id": "Ke5hfVqvsTPW",
        "colab_type": "code",
        "colab": {
          "base_uri": "https://localhost:8080/",
          "height": 35
        },
        "outputId": "587d0873-ca75-4fb8-b5e8-5bb675927123"
      },
      "source": [
        "import cv2\n",
        "# print version number\n",
        "print(cv2.__version__)"
      ],
      "execution_count": 22,
      "outputs": [
        {
          "output_type": "stream",
          "text": [
            "4.1.2\n"
          ],
          "name": "stdout"
        }
      ]
    },
    {
      "cell_type": "code",
      "metadata": {
        "id": "pyPT8K9At6zt",
        "colab_type": "code",
        "colab": {}
      },
      "source": [
        "#MTCNN\n",
        "#box_utils.py\n",
        "import numpy as np\n",
        "from PIL import Image\n",
        "\n",
        "\n",
        "def nms(boxes, overlap_threshold=0.5, mode='union'):\n",
        "    \"\"\"Non-maximum suppression.\n",
        "    Arguments:\n",
        "        boxes: a float numpy array of shape [n, 5],\n",
        "            where each row is (xmin, ymin, xmax, ymax, score).\n",
        "        overlap_threshold: a float number.\n",
        "        mode: 'union' or 'min'.\n",
        "    Returns:\n",
        "        list with indices of the selected boxes\n",
        "    \"\"\"\n",
        "\n",
        "    # if there are no boxes, return the empty list\n",
        "    if len(boxes) == 0:\n",
        "        return []\n",
        "\n",
        "    # list of picked indices\n",
        "    pick = []\n",
        "\n",
        "    # grab the coordinates of the bounding boxes\n",
        "    x1, y1, x2, y2, score = [boxes[:, i] for i in range(5)]\n",
        "\n",
        "    area = (x2 - x1 + 1.0) * (y2 - y1 + 1.0)\n",
        "    ids = np.argsort(score)  # in increasing order\n",
        "\n",
        "    while len(ids) > 0:\n",
        "\n",
        "        # grab index of the largest value\n",
        "        last = len(ids) - 1\n",
        "        i = ids[last]\n",
        "        pick.append(i)\n",
        "\n",
        "        # compute intersections\n",
        "        # of the box with the largest score\n",
        "        # with the rest of boxes\n",
        "\n",
        "        # left top corner of intersection boxes\n",
        "        ix1 = np.maximum(x1[i], x1[ids[:last]])\n",
        "        iy1 = np.maximum(y1[i], y1[ids[:last]])\n",
        "\n",
        "        # right bottom corner of intersection boxes\n",
        "        ix2 = np.minimum(x2[i], x2[ids[:last]])\n",
        "        iy2 = np.minimum(y2[i], y2[ids[:last]])\n",
        "\n",
        "        # width and height of intersection boxes\n",
        "        w = np.maximum(0.0, ix2 - ix1 + 1.0)\n",
        "        h = np.maximum(0.0, iy2 - iy1 + 1.0)\n",
        "\n",
        "        # intersections' areas\n",
        "        inter = w * h\n",
        "        if mode == 'min':\n",
        "            overlap = inter / np.minimum(area[i], area[ids[:last]])\n",
        "        elif mode == 'union':\n",
        "            # intersection over union (IoU)\n",
        "            overlap = inter / (area[i] + area[ids[:last]] - inter)\n",
        "\n",
        "        # delete all boxes where overlap is too big\n",
        "        ids = np.delete(\n",
        "            ids,\n",
        "            np.concatenate([[last], np.where(overlap > overlap_threshold)[0]])\n",
        "        )\n",
        "\n",
        "    return pick\n",
        "\n",
        "\n",
        "def convert_to_square(bboxes):\n",
        "    \"\"\"Convert bounding boxes to a square form.\n",
        "    Arguments:\n",
        "        bboxes: a float numpy array of shape [n, 5].\n",
        "    Returns:\n",
        "        a float numpy array of shape [n, 5],\n",
        "            squared bounding boxes.\n",
        "    \"\"\"\n",
        "\n",
        "    square_bboxes = np.zeros_like(bboxes)\n",
        "    x1, y1, x2, y2 = [bboxes[:, i] for i in range(4)]\n",
        "    h = y2 - y1 + 1.0\n",
        "    w = x2 - x1 + 1.0\n",
        "    max_side = np.maximum(h, w)\n",
        "    square_bboxes[:, 0] = x1 + w * 0.5 - max_side * 0.5\n",
        "    square_bboxes[:, 1] = y1 + h * 0.5 - max_side * 0.5\n",
        "    square_bboxes[:, 2] = square_bboxes[:, 0] + max_side - 1.0\n",
        "    square_bboxes[:, 3] = square_bboxes[:, 1] + max_side - 1.0\n",
        "    return square_bboxes\n",
        "\n",
        "\n",
        "def calibrate_box(bboxes, offsets):\n",
        "    \"\"\"Transform bounding boxes to be more like true bounding boxes.\n",
        "    'offsets' is one of the outputs of the nets.\n",
        "    Arguments:\n",
        "        bboxes: a float numpy array of shape [n, 5].\n",
        "        offsets: a float numpy array of shape [n, 4].\n",
        "    Returns:\n",
        "        a float numpy array of shape [n, 5].\n",
        "    \"\"\"\n",
        "    x1, y1, x2, y2 = [bboxes[:, i] for i in range(4)]\n",
        "    w = x2 - x1 + 1.0\n",
        "    h = y2 - y1 + 1.0\n",
        "    w = np.expand_dims(w, 1)\n",
        "    h = np.expand_dims(h, 1)\n",
        "\n",
        "    # this is what happening here:\n",
        "    # tx1, ty1, tx2, ty2 = [offsets[:, i] for i in range(4)]\n",
        "    # x1_true = x1 + tx1*w\n",
        "    # y1_true = y1 + ty1*h\n",
        "    # x2_true = x2 + tx2*w\n",
        "    # y2_true = y2 + ty2*h\n",
        "    # below is just more compact form of this\n",
        "\n",
        "    # are offsets always such that\n",
        "    # x1 < x2 and y1 < y2 ?\n",
        "\n",
        "    translation = np.hstack([w, h, w, h]) * offsets\n",
        "    bboxes[:, 0:4] = bboxes[:, 0:4] + translation\n",
        "    return bboxes\n",
        "\n",
        "\n",
        "def get_image_boxes(bounding_boxes, img, size=24):\n",
        "    \"\"\"Cut out boxes from the image.\n",
        "    Arguments:\n",
        "        bounding_boxes: a float numpy array of shape [n, 5].\n",
        "        img: an instance of PIL.Image.\n",
        "        size: an integer, size of cutouts.\n",
        "    Returns:\n",
        "        a float numpy array of shape [n, 3, size, size].\n",
        "    \"\"\"\n",
        "\n",
        "    num_boxes = len(bounding_boxes)\n",
        "    width, height = img.size\n",
        "\n",
        "    [dy, edy, dx, edx, y, ey, x, ex, w, h] = correct_bboxes(bounding_boxes, width, height)\n",
        "    img_boxes = np.zeros((num_boxes, 3, size, size), 'float32')\n",
        "\n",
        "    for i in range(num_boxes):\n",
        "        img_box = np.zeros((h[i], w[i], 3), 'uint8')\n",
        "\n",
        "        img_array = np.asarray(img, 'uint8')\n",
        "        img_box[dy[i]:(edy[i] + 1), dx[i]:(edx[i] + 1), :] = \\\n",
        "            img_array[y[i]:(ey[i] + 1), x[i]:(ex[i] + 1), :]\n",
        "\n",
        "        # resize\n",
        "        img_box = Image.fromarray(img_box)\n",
        "        img_box = img_box.resize((size, size), Image.BILINEAR)\n",
        "        img_box = np.asarray(img_box, 'float32')\n",
        "\n",
        "        img_boxes[i, :, :, :] = _preprocess(img_box)\n",
        "\n",
        "    return img_boxes\n",
        "\n",
        "\n",
        "def correct_bboxes(bboxes, width, height):\n",
        "    \"\"\"Crop boxes that are too big and get coordinates\n",
        "    with respect to cutouts.\n",
        "    Arguments:\n",
        "        bboxes: a float numpy array of shape [n, 5],\n",
        "            where each row is (xmin, ymin, xmax, ymax, score).\n",
        "        width: a float number.\n",
        "        height: a float number.\n",
        "    Returns:\n",
        "        dy, dx, edy, edx: a int numpy arrays of shape [n],\n",
        "            coordinates of the boxes with respect to the cutouts.\n",
        "        y, x, ey, ex: a int numpy arrays of shape [n],\n",
        "            corrected ymin, xmin, ymax, xmax.\n",
        "        h, w: a int numpy arrays of shape [n],\n",
        "            just heights and widths of boxes.\n",
        "        in the following order:\n",
        "            [dy, edy, dx, edx, y, ey, x, ex, w, h].\n",
        "    \"\"\"\n",
        "\n",
        "    x1, y1, x2, y2 = [bboxes[:, i] for i in range(4)]\n",
        "    w, h = x2 - x1 + 1.0, y2 - y1 + 1.0\n",
        "    num_boxes = bboxes.shape[0]\n",
        "\n",
        "    # 'e' stands for end\n",
        "    # (x, y) -> (ex, ey)\n",
        "    x, y, ex, ey = x1, y1, x2, y2\n",
        "\n",
        "    # we need to cut out a box from the image.\n",
        "    # (x, y, ex, ey) are corrected coordinates of the box\n",
        "    # in the image.\n",
        "    # (dx, dy, edx, edy) are coordinates of the box in the cutout\n",
        "    # from the image.\n",
        "    dx, dy = np.zeros((num_boxes,)), np.zeros((num_boxes,))\n",
        "    edx, edy = w.copy() - 1.0, h.copy() - 1.0\n",
        "\n",
        "    # if box's bottom right corner is too far right\n",
        "    ind = np.where(ex > width - 1.0)[0]\n",
        "    edx[ind] = w[ind] + width - 2.0 - ex[ind]\n",
        "    ex[ind] = width - 1.0\n",
        "\n",
        "    # if box's bottom right corner is too low\n",
        "    ind = np.where(ey > height - 1.0)[0]\n",
        "    edy[ind] = h[ind] + height - 2.0 - ey[ind]\n",
        "    ey[ind] = height - 1.0\n",
        "\n",
        "    # if box's top left corner is too far left\n",
        "    ind = np.where(x < 0.0)[0]\n",
        "    dx[ind] = 0.0 - x[ind]\n",
        "    x[ind] = 0.0\n",
        "\n",
        "    # if box's top left corner is too high\n",
        "    ind = np.where(y < 0.0)[0]\n",
        "    dy[ind] = 0.0 - y[ind]\n",
        "    y[ind] = 0.0\n",
        "\n",
        "    return_list = [dy, edy, dx, edx, y, ey, x, ex, w, h]\n",
        "    return_list = [i.astype('int32') for i in return_list]\n",
        "\n",
        "    return return_list\n",
        "\n",
        "\n",
        "def _preprocess(img):\n",
        "    \"\"\"Preprocessing step before feeding the network.\n",
        "    Arguments:\n",
        "        img: a float numpy array of shape [h, w, c].\n",
        "    Returns:\n",
        "        a float numpy array of shape [1, c, h, w].\n",
        "    \"\"\"\n",
        "    img = img.transpose((2, 0, 1))\n",
        "    img = np.expand_dims(img, 0)\n",
        "    img = (img - 127.5) * 0.0078125\n",
        "    return img"
      ],
      "execution_count": 0,
      "outputs": []
    },
    {
      "cell_type": "code",
      "metadata": {
        "id": "nG0e0n4iuGvu",
        "colab_type": "code",
        "colab": {
          "base_uri": "https://localhost:8080/",
          "height": 389
        },
        "outputId": "b92382be-dd12-465c-c5e7-d74e290ea7fc"
      },
      "source": [
        "#demo.py\n",
        "import cv2 as cv\n",
        "import numpy as np\n",
        "from PIL import ImageDraw\n",
        "\n",
        "\n",
        "from MTCNN.visualization_utils import show_bboxes\n",
        "\n",
        "if __name__ == '__main__':\n",
        "    img = Image.open('images/office1.jpg')\n",
        "    bounding_boxes, landmarks = detector.detect_faces(img)\n",
        "    img = cv.cvtColor(np.array(img), cv.COLOR_RGB2BGR)\n",
        "    show_bboxes(img, bounding_boxes, landmarks)\n",
        "\n",
        "    img = Image.open('images/office2.jpg')\n",
        "    bounding_boxes, landmarks = detector.detect_faces(img)\n",
        "    img = cv.cvtColor(np.array(img), cv.COLOR_RGB2BGR)\n",
        "    show_bboxes(img, bounding_boxes, landmarks)\n",
        "\n",
        "    img = Image.open('images/office3.jpg')\n",
        "    bounding_boxes, landmarks =detector.detect_faces(img)\n",
        "    img = cv.cvtColor(np.array(img), cv.COLOR_RGB2BGR)\n",
        "    show_bboxes(img, bounding_boxes, landmarks)\n",
        "\n",
        "    img = Image.open('images/office4.jpg')\n",
        "    bounding_boxes, landmarks = detector.detect_faces(img)\n",
        "    img = cv.cvtColor(np.array(img), cv.COLOR_RGB2BGR)\n",
        "    show_bboxes(img, bounding_boxes, landmarks)\n",
        "\n",
        "    img = Image.open('images/office5.jpg')\n",
        "    bounding_boxes, landmarks =detector. detect_faces(img)\n",
        "    img = cv.cvtColor(np.array(img), cv.COLOR_RGB2BGR)\n",
        "    show_bboxes(img, bounding_boxes, landmarks)"
      ],
      "execution_count": 53,
      "outputs": [
        {
          "output_type": "error",
          "ename": "ModuleNotFoundError",
          "evalue": "ignored",
          "traceback": [
            "\u001b[0;31m---------------------------------------------------------------------------\u001b[0m",
            "\u001b[0;31mModuleNotFoundError\u001b[0m                       Traceback (most recent call last)",
            "\u001b[0;32m<ipython-input-53-f326c6fffd5f>\u001b[0m in \u001b[0;36m<module>\u001b[0;34m()\u001b[0m\n\u001b[1;32m      5\u001b[0m \u001b[0;34m\u001b[0m\u001b[0m\n\u001b[1;32m      6\u001b[0m \u001b[0;34m\u001b[0m\u001b[0m\n\u001b[0;32m----> 7\u001b[0;31m \u001b[0;32mfrom\u001b[0m \u001b[0mMTCNN\u001b[0m\u001b[0;34m.\u001b[0m\u001b[0mvisualization_utils\u001b[0m \u001b[0;32mimport\u001b[0m \u001b[0mshow_bboxes\u001b[0m\u001b[0;34m\u001b[0m\u001b[0;34m\u001b[0m\u001b[0m\n\u001b[0m\u001b[1;32m      8\u001b[0m \u001b[0;34m\u001b[0m\u001b[0m\n\u001b[1;32m      9\u001b[0m \u001b[0;32mif\u001b[0m \u001b[0m__name__\u001b[0m \u001b[0;34m==\u001b[0m \u001b[0;34m'__main__'\u001b[0m\u001b[0;34m:\u001b[0m\u001b[0;34m\u001b[0m\u001b[0;34m\u001b[0m\u001b[0m\n",
            "\u001b[0;31mModuleNotFoundError\u001b[0m: No module named 'MTCNN'",
            "",
            "\u001b[0;31m---------------------------------------------------------------------------\u001b[0;32m\nNOTE: If your import is failing due to a missing package, you can\nmanually install dependencies using either !pip or !apt.\n\nTo view examples of installing some common dependencies, click the\n\"Open Examples\" button below.\n\u001b[0;31m---------------------------------------------------------------------------\u001b[0m\n"
          ]
        }
      ]
    },
    {
      "cell_type": "code",
      "metadata": {
        "id": "BF-yTTtvuQYz",
        "colab_type": "code",
        "colab": {}
      },
      "source": [
        "from mtcnn.mtcnn import MTCNN"
      ],
      "execution_count": 0,
      "outputs": []
    },
    {
      "cell_type": "code",
      "metadata": {
        "id": "5dpC_6CAv9nR",
        "colab_type": "code",
        "colab": {}
      },
      "source": [
        "detector = MTCNN()"
      ],
      "execution_count": 0,
      "outputs": []
    },
    {
      "cell_type": "code",
      "metadata": {
        "id": "WcDoqxKNuj-T",
        "colab_type": "code",
        "colab": {
          "base_uri": "https://localhost:8080/",
          "height": 674
        },
        "outputId": "b1a06afc-c2e3-4ad8-9105-0729f2a3dae7"
      },
      "source": [
        "!pip install tensorflow"
      ],
      "execution_count": 35,
      "outputs": [
        {
          "output_type": "stream",
          "text": [
            "Requirement already satisfied: tensorflow in /usr/local/lib/python3.6/dist-packages (2.2.0)\n",
            "Requirement already satisfied: h5py<2.11.0,>=2.10.0 in /usr/local/lib/python3.6/dist-packages (from tensorflow) (2.10.0)\n",
            "Requirement already satisfied: google-pasta>=0.1.8 in /usr/local/lib/python3.6/dist-packages (from tensorflow) (0.2.0)\n",
            "Requirement already satisfied: numpy<2.0,>=1.16.0 in /usr/local/lib/python3.6/dist-packages (from tensorflow) (1.18.4)\n",
            "Requirement already satisfied: keras-preprocessing>=1.1.0 in /usr/local/lib/python3.6/dist-packages (from tensorflow) (1.1.0)\n",
            "Requirement already satisfied: termcolor>=1.1.0 in /usr/local/lib/python3.6/dist-packages (from tensorflow) (1.1.0)\n",
            "Requirement already satisfied: grpcio>=1.8.6 in /usr/local/lib/python3.6/dist-packages (from tensorflow) (1.28.1)\n",
            "Requirement already satisfied: gast==0.3.3 in /usr/local/lib/python3.6/dist-packages (from tensorflow) (0.3.3)\n",
            "Requirement already satisfied: wheel>=0.26; python_version >= \"3\" in /usr/local/lib/python3.6/dist-packages (from tensorflow) (0.34.2)\n",
            "Requirement already satisfied: opt-einsum>=2.3.2 in /usr/local/lib/python3.6/dist-packages (from tensorflow) (3.2.1)\n",
            "Requirement already satisfied: tensorboard<2.3.0,>=2.2.0 in /usr/local/lib/python3.6/dist-packages (from tensorflow) (2.2.1)\n",
            "Requirement already satisfied: astunparse==1.6.3 in /usr/local/lib/python3.6/dist-packages (from tensorflow) (1.6.3)\n",
            "Requirement already satisfied: scipy==1.4.1; python_version >= \"3\" in /usr/local/lib/python3.6/dist-packages (from tensorflow) (1.4.1)\n",
            "Requirement already satisfied: protobuf>=3.8.0 in /usr/local/lib/python3.6/dist-packages (from tensorflow) (3.10.0)\n",
            "Requirement already satisfied: six>=1.12.0 in /usr/local/lib/python3.6/dist-packages (from tensorflow) (1.12.0)\n",
            "Requirement already satisfied: tensorflow-estimator<2.3.0,>=2.2.0 in /usr/local/lib/python3.6/dist-packages (from tensorflow) (2.2.0)\n",
            "Requirement already satisfied: wrapt>=1.11.1 in /usr/local/lib/python3.6/dist-packages (from tensorflow) (1.12.1)\n",
            "Requirement already satisfied: absl-py>=0.7.0 in /usr/local/lib/python3.6/dist-packages (from tensorflow) (0.9.0)\n",
            "Requirement already satisfied: google-auth-oauthlib<0.5,>=0.4.1 in /usr/local/lib/python3.6/dist-packages (from tensorboard<2.3.0,>=2.2.0->tensorflow) (0.4.1)\n",
            "Requirement already satisfied: requests<3,>=2.21.0 in /usr/local/lib/python3.6/dist-packages (from tensorboard<2.3.0,>=2.2.0->tensorflow) (2.23.0)\n",
            "Requirement already satisfied: google-auth<2,>=1.6.3 in /usr/local/lib/python3.6/dist-packages (from tensorboard<2.3.0,>=2.2.0->tensorflow) (1.7.2)\n",
            "Requirement already satisfied: setuptools>=41.0.0 in /usr/local/lib/python3.6/dist-packages (from tensorboard<2.3.0,>=2.2.0->tensorflow) (46.3.0)\n",
            "Requirement already satisfied: werkzeug>=0.11.15 in /usr/local/lib/python3.6/dist-packages (from tensorboard<2.3.0,>=2.2.0->tensorflow) (1.0.1)\n",
            "Requirement already satisfied: tensorboard-plugin-wit>=1.6.0 in /usr/local/lib/python3.6/dist-packages (from tensorboard<2.3.0,>=2.2.0->tensorflow) (1.6.0.post3)\n",
            "Requirement already satisfied: markdown>=2.6.8 in /usr/local/lib/python3.6/dist-packages (from tensorboard<2.3.0,>=2.2.0->tensorflow) (3.2.1)\n",
            "Requirement already satisfied: requests-oauthlib>=0.7.0 in /usr/local/lib/python3.6/dist-packages (from google-auth-oauthlib<0.5,>=0.4.1->tensorboard<2.3.0,>=2.2.0->tensorflow) (1.3.0)\n",
            "Requirement already satisfied: idna<3,>=2.5 in /usr/local/lib/python3.6/dist-packages (from requests<3,>=2.21.0->tensorboard<2.3.0,>=2.2.0->tensorflow) (2.9)\n",
            "Requirement already satisfied: certifi>=2017.4.17 in /usr/local/lib/python3.6/dist-packages (from requests<3,>=2.21.0->tensorboard<2.3.0,>=2.2.0->tensorflow) (2020.4.5.1)\n",
            "Requirement already satisfied: urllib3!=1.25.0,!=1.25.1,<1.26,>=1.21.1 in /usr/local/lib/python3.6/dist-packages (from requests<3,>=2.21.0->tensorboard<2.3.0,>=2.2.0->tensorflow) (1.24.3)\n",
            "Requirement already satisfied: chardet<4,>=3.0.2 in /usr/local/lib/python3.6/dist-packages (from requests<3,>=2.21.0->tensorboard<2.3.0,>=2.2.0->tensorflow) (3.0.4)\n",
            "Requirement already satisfied: pyasn1-modules>=0.2.1 in /usr/local/lib/python3.6/dist-packages (from google-auth<2,>=1.6.3->tensorboard<2.3.0,>=2.2.0->tensorflow) (0.2.8)\n",
            "Requirement already satisfied: cachetools<3.2,>=2.0.0 in /usr/local/lib/python3.6/dist-packages (from google-auth<2,>=1.6.3->tensorboard<2.3.0,>=2.2.0->tensorflow) (3.1.1)\n",
            "Requirement already satisfied: rsa<4.1,>=3.1.4 in /usr/local/lib/python3.6/dist-packages (from google-auth<2,>=1.6.3->tensorboard<2.3.0,>=2.2.0->tensorflow) (4.0)\n",
            "Requirement already satisfied: oauthlib>=3.0.0 in /usr/local/lib/python3.6/dist-packages (from requests-oauthlib>=0.7.0->google-auth-oauthlib<0.5,>=0.4.1->tensorboard<2.3.0,>=2.2.0->tensorflow) (3.1.0)\n",
            "Requirement already satisfied: pyasn1<0.5.0,>=0.4.6 in /usr/local/lib/python3.6/dist-packages (from pyasn1-modules>=0.2.1->google-auth<2,>=1.6.3->tensorboard<2.3.0,>=2.2.0->tensorflow) (0.4.8)\n"
          ],
          "name": "stdout"
        }
      ]
    },
    {
      "cell_type": "code",
      "metadata": {
        "id": "6g7-2rCwy0W2",
        "colab_type": "code",
        "colab": {}
      },
      "source": [
        "import cv2\n",
        "\n",
        "\n",
        "def show_bboxes(img, bounding_boxes, facial_landmarks=[]):\n",
        "    \"\"\"Draw bounding boxes and facial landmarks.\n",
        "    Arguments:\n",
        "        img: an instance of PIL.Image.\n",
        "        bounding_boxes: a float numpy array of shape [n, 5].\n",
        "        facial_landmarks: a float numpy array of shape [n, 10].\n",
        "    Returns:\n",
        "        an instance of PIL.Image.\n",
        "    \"\"\"\n",
        "\n",
        "    # img_copy = img.copy()\n",
        "    # draw = ImageDraw.Draw(img_copy)\n",
        "    draw = img.copy()\n",
        "\n",
        "    for b in bounding_boxes:\n",
        "        b = [int(round(value)) for value in b]\n",
        "        # print (b)\n",
        "        cv2.rectangle(draw, (b[0], b[1]), (b[2], b[3]), (0,255,0), 2)\n",
        "        \n",
        "\n",
        "    for p in facial_landmarks:\n",
        "        for i in range(5):\n",
        "            cv2.circle(draw, (p[i] , p[i + 5]), 1, (255,0,0), -1)\n",
        "        \n",
        "    return draw"
      ],
      "execution_count": 0,
      "outputs": []
    }
  ]
}